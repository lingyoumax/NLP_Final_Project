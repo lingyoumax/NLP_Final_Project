{
 "cells": [
  {
   "cell_type": "code",
   "execution_count": 4,
   "metadata": {},
   "outputs": [
    {
     "data": {
      "text/html": [
       "<div>\n",
       "<style scoped>\n",
       "    .dataframe tbody tr th:only-of-type {\n",
       "        vertical-align: middle;\n",
       "    }\n",
       "\n",
       "    .dataframe tbody tr th {\n",
       "        vertical-align: top;\n",
       "    }\n",
       "\n",
       "    .dataframe thead th {\n",
       "        text-align: right;\n",
       "    }\n",
       "</style>\n",
       "<table border=\"1\" class=\"dataframe\">\n",
       "  <thead>\n",
       "    <tr style=\"text-align: right;\">\n",
       "      <th></th>\n",
       "      <th>Question</th>\n",
       "      <th>Confirmation</th>\n",
       "      <th>Factoid</th>\n",
       "      <th>List</th>\n",
       "      <th>Causal</th>\n",
       "      <th>Hypothetical</th>\n",
       "      <th>Complex</th>\n",
       "    </tr>\n",
       "  </thead>\n",
       "  <tbody>\n",
       "    <tr>\n",
       "      <th>0</th>\n",
       "      <td>For what are jeans used to make?</td>\n",
       "      <td>0</td>\n",
       "      <td>1</td>\n",
       "      <td>0</td>\n",
       "      <td>0</td>\n",
       "      <td>0</td>\n",
       "      <td>0</td>\n",
       "    </tr>\n",
       "    <tr>\n",
       "      <th>1</th>\n",
       "      <td>What type of industry produced a growing chain...</td>\n",
       "      <td>0</td>\n",
       "      <td>1</td>\n",
       "      <td>0</td>\n",
       "      <td>0</td>\n",
       "      <td>0</td>\n",
       "      <td>0</td>\n",
       "    </tr>\n",
       "    <tr>\n",
       "      <th>2</th>\n",
       "      <td>Where is a tower almost never found on Greek c...</td>\n",
       "      <td>0</td>\n",
       "      <td>1</td>\n",
       "      <td>0</td>\n",
       "      <td>0</td>\n",
       "      <td>0</td>\n",
       "      <td>0</td>\n",
       "    </tr>\n",
       "    <tr>\n",
       "      <th>3</th>\n",
       "      <td>In what year did Joseph Stalin come to power?</td>\n",
       "      <td>0</td>\n",
       "      <td>1</td>\n",
       "      <td>0</td>\n",
       "      <td>0</td>\n",
       "      <td>0</td>\n",
       "      <td>0</td>\n",
       "    </tr>\n",
       "    <tr>\n",
       "      <th>4</th>\n",
       "      <td>Along with cabaret striptease bands and drama ...</td>\n",
       "      <td>0</td>\n",
       "      <td>1</td>\n",
       "      <td>0</td>\n",
       "      <td>0</td>\n",
       "      <td>0</td>\n",
       "      <td>0</td>\n",
       "    </tr>\n",
       "  </tbody>\n",
       "</table>\n",
       "</div>"
      ],
      "text/plain": [
       "                                            Question  Confirmation  Factoid  \\\n",
       "0                   For what are jeans used to make?             0        1   \n",
       "1  What type of industry produced a growing chain...             0        1   \n",
       "2  Where is a tower almost never found on Greek c...             0        1   \n",
       "3      In what year did Joseph Stalin come to power?             0        1   \n",
       "4  Along with cabaret striptease bands and drama ...             0        1   \n",
       "\n",
       "   List  Causal  Hypothetical  Complex  \n",
       "0     0       0             0        0  \n",
       "1     0       0             0        0  \n",
       "2     0       0             0        0  \n",
       "3     0       0             0        0  \n",
       "4     0       0             0        0  "
      ]
     },
     "execution_count": 4,
     "metadata": {},
     "output_type": "execute_result"
    }
   ],
   "source": [
    "import pandas as pd\n",
    "\n",
    "df = pd.read_csv('squad_questions_and_types_500.csv', index_col=None)\n",
    "df.head()"
   ]
  },
  {
   "cell_type": "code",
   "execution_count": 5,
   "metadata": {},
   "outputs": [
    {
     "name": "stdout",
     "output_type": "stream",
     "text": [
      "1 478 5 43 0 24\n"
     ]
    }
   ],
   "source": [
    "print(df['Confirmation'].sum(),df['Factoid'].sum(),df['List'].sum(),df['Causal'].sum(),df['Hypothetical'].sum(),df['Complex'].sum())"
   ]
  },
  {
   "cell_type": "markdown",
   "metadata": {},
   "source": [
    "# we can see the annotation results of some SQuAD data. Most of them are of Factoid type, and the results are very uneven."
   ]
  },
  {
   "cell_type": "markdown",
   "metadata": {},
   "source": [
    "# However, we tried using GPT3.5 to generate results and found that the results were very simplistic and not conducive to the generalization of the model.However, the effect of using GPT4 will be very obvious, so we generate it for the categories that are obviously missing."
   ]
  },
  {
   "cell_type": "markdown",
   "metadata": {},
   "source": [
    "[\"Is Paris the capital of France?\", 1, 0, 0, 0, 0, 0]  \n",
    "[\"Is the Eiffel Tower located in France?\", 1, 0, 0, 0, 0, 0]  \n",
    "[\"Is French spoken in France?\", 1, 0, 0, 0, 0, 0]  \n",
    "[\"Is the Louvre Museum in France?\", 1, 0, 0, 0, 0, 0]  \n",
    "[\"Is the Arc de Triomphe located in France?\", 1, 0, 0, 0, 0, 0]  \n",
    "[\"Is French the official language of France?\", 1, 0, 0, 0, 0, 0]  \n",
    "[\"Is the Louvre Museum the most visited museum in France?\", 1, 0, 0, 0, 0, 0]  \n",
    "[\"Is Paris known as the City of Love?\", 1, 0, 0, 0, 0, 0]  \n",
    "[\"Is the Seine River in France?\", 1, 0, 0, 0, 0, 0]  \n",
    "[\"Is Versailles a famous palace in France?\", 1, 0, 0, 0, 0, 0]  "
   ]
  },
  {
   "cell_type": "markdown",
   "metadata": {},
   "source": [
    "# Then most Factoid questions start with \"what,\" \"which,\" \"when,\" \"who,\" or \"how,\" so we divide the large data set into those that contain these keywords and those that do not. The words are divided into two parts, and then sampled separately to generate the result data set."
   ]
  },
  {
   "cell_type": "code",
   "execution_count": 106,
   "metadata": {},
   "outputs": [
    {
     "data": {
      "text/html": [
       "<div>\n",
       "<style scoped>\n",
       "    .dataframe tbody tr th:only-of-type {\n",
       "        vertical-align: middle;\n",
       "    }\n",
       "\n",
       "    .dataframe tbody tr th {\n",
       "        vertical-align: top;\n",
       "    }\n",
       "\n",
       "    .dataframe thead th {\n",
       "        text-align: right;\n",
       "    }\n",
       "</style>\n",
       "<table border=\"1\" class=\"dataframe\">\n",
       "  <thead>\n",
       "    <tr style=\"text-align: right;\">\n",
       "      <th></th>\n",
       "      <th>Question</th>\n",
       "      <th>Confirmation</th>\n",
       "      <th>Factoid</th>\n",
       "      <th>List</th>\n",
       "      <th>Causal</th>\n",
       "      <th>Hypothetical</th>\n",
       "      <th>Complex</th>\n",
       "    </tr>\n",
       "  </thead>\n",
       "  <tbody>\n",
       "    <tr>\n",
       "      <th>0</th>\n",
       "      <td>When did Tito create the Second Proletarian Br...</td>\n",
       "      <td>0</td>\n",
       "      <td>1</td>\n",
       "      <td>0</td>\n",
       "      <td>0</td>\n",
       "      <td>0</td>\n",
       "      <td>0</td>\n",
       "    </tr>\n",
       "    <tr>\n",
       "      <th>1</th>\n",
       "      <td>Who discovered non-radio uses for early LED de...</td>\n",
       "      <td>0</td>\n",
       "      <td>1</td>\n",
       "      <td>0</td>\n",
       "      <td>0</td>\n",
       "      <td>0</td>\n",
       "      <td>0</td>\n",
       "    </tr>\n",
       "    <tr>\n",
       "      <th>2</th>\n",
       "      <td>What dynasty ruled Germany starting in 1024?</td>\n",
       "      <td>0</td>\n",
       "      <td>1</td>\n",
       "      <td>0</td>\n",
       "      <td>0</td>\n",
       "      <td>0</td>\n",
       "      <td>0</td>\n",
       "    </tr>\n",
       "    <tr>\n",
       "      <th>3</th>\n",
       "      <td>Sufficient domestic renewable resources exist ...</td>\n",
       "      <td>0</td>\n",
       "      <td>0</td>\n",
       "      <td>0</td>\n",
       "      <td>1</td>\n",
       "      <td>0</td>\n",
       "      <td>0</td>\n",
       "    </tr>\n",
       "    <tr>\n",
       "      <th>4</th>\n",
       "      <td>What did astronomers during this area believe ...</td>\n",
       "      <td>0</td>\n",
       "      <td>1</td>\n",
       "      <td>0</td>\n",
       "      <td>0</td>\n",
       "      <td>0</td>\n",
       "      <td>0</td>\n",
       "    </tr>\n",
       "  </tbody>\n",
       "</table>\n",
       "</div>"
      ],
      "text/plain": [
       "                                            Question  Confirmation  Factoid  \\\n",
       "0  When did Tito create the Second Proletarian Br...             0        1   \n",
       "1  Who discovered non-radio uses for early LED de...             0        1   \n",
       "2       What dynasty ruled Germany starting in 1024?             0        1   \n",
       "3  Sufficient domestic renewable resources exist ...             0        0   \n",
       "4  What did astronomers during this area believe ...             0        1   \n",
       "\n",
       "   List  Causal  Hypothetical  Complex  \n",
       "0     0       0             0        0  \n",
       "1     0       0             0        0  \n",
       "2     0       0             0        0  \n",
       "3     0       1             0        0  \n",
       "4     0       0             0        0  "
      ]
     },
     "execution_count": 106,
     "metadata": {},
     "output_type": "execute_result"
    }
   ],
   "source": [
    "import pandas as pd\n",
    "\n",
    "\n",
    "df = pd.read_csv('squad_questions_and_types_balanced_500.csv', index_col=None)\n",
    "df = df.drop_duplicates(subset=[\"Question\"])\n",
    "df.head()"
   ]
  },
  {
   "cell_type": "code",
   "execution_count": 107,
   "metadata": {},
   "outputs": [
    {
     "name": "stdout",
     "output_type": "stream",
     "text": [
      "463 1437 127 1601 136 385\n",
      "3332\n"
     ]
    }
   ],
   "source": [
    "print(df['Confirmation'].sum(),df['Factoid'].sum(),df['List'].sum(),df['Causal'].sum(),df['Hypothetical'].sum(),df['Complex'].sum())\n",
    "print(len(df))"
   ]
  },
  {
   "cell_type": "code",
   "execution_count": 108,
   "metadata": {},
   "outputs": [
    {
     "name": "stdout",
     "output_type": "stream",
     "text": [
      "749\n",
      "0.22478991596638656\n"
     ]
    }
   ],
   "source": [
    "row_sums = df[['Confirmation', 'Factoid', 'List', 'Causal', 'Hypothetical', 'Complex']].sum(axis=1)\n",
    "count_greater_than_one = (row_sums > 1).sum()\n",
    "print(count_greater_than_one)\n",
    "print(count_greater_than_one/len(df))"
   ]
  },
  {
   "cell_type": "markdown",
   "metadata": {},
   "source": [
    "# It can be seen that the categories are not very balanced, so we further restrict it so that the size of the training set is around 1000, so some of the factoid and casual types will be filtered out."
   ]
  },
  {
   "cell_type": "code",
   "execution_count": 109,
   "metadata": {},
   "outputs": [
    {
     "name": "stdout",
     "output_type": "stream",
     "text": [
      "1437\n"
     ]
    }
   ],
   "source": [
    "df_filtered_1 = df[(df['Factoid'] == 1)]\n",
    "count_filtered_rows = len(df_filtered_1)\n",
    "print(count_filtered_rows)"
   ]
  },
  {
   "cell_type": "code",
   "execution_count": 110,
   "metadata": {},
   "outputs": [
    {
     "name": "stdout",
     "output_type": "stream",
     "text": [
      "886\n"
     ]
    }
   ],
   "source": [
    "df_filtered_2 = df[(df['Factoid'] == 1) & (df['Confirmation']==0)& (df['List']==0)& (df['Causal']==0)& (df['Hypothetical']==0)& (df['Complex']==0)]\n",
    "count_filtered_rows = len(df_filtered_2)\n",
    "print(count_filtered_rows)"
   ]
  },
  {
   "cell_type": "code",
   "execution_count": 111,
   "metadata": {},
   "outputs": [
    {
     "name": "stdout",
     "output_type": "stream",
     "text": [
      "551\n"
     ]
    }
   ],
   "source": [
    "df_filtered_3 = df_filtered_1[~df_filtered_1.index.isin(df_filtered_2.index)]\n",
    "count_filtered_rows = len(df_filtered_3)\n",
    "print(count_filtered_rows)"
   ]
  },
  {
   "cell_type": "code",
   "execution_count": 112,
   "metadata": {},
   "outputs": [],
   "source": [
    "df_sampled = df_filtered_2.sample(n=600, random_state=42)\n",
    "df = df.drop(df_sampled.index)\n",
    "df_sampled = df_filtered_3.sample(n=300, random_state=42)\n",
    "df = df.drop(df_sampled.index)"
   ]
  },
  {
   "cell_type": "code",
   "execution_count": 113,
   "metadata": {},
   "outputs": [
    {
     "name": "stdout",
     "output_type": "stream",
     "text": [
      "1437\n"
     ]
    }
   ],
   "source": [
    "df_filtered_3 = df[(df['Causal'] == 1)]\n",
    "count_filtered_rows = len(df_filtered_1)\n",
    "print(count_filtered_rows)"
   ]
  },
  {
   "cell_type": "code",
   "execution_count": 114,
   "metadata": {},
   "outputs": [
    {
     "name": "stdout",
     "output_type": "stream",
     "text": [
      "1003\n"
     ]
    }
   ],
   "source": [
    "df_filtered_4 = df[(df['Causal'] == 1) & (df['Confirmation']==0)& (df['List']==0)& (df['Factoid']==0)& (df['Hypothetical']==0)& (df['Complex']==0)]\n",
    "count_filtered_rows = len(df_filtered_4)\n",
    "print(count_filtered_rows)"
   ]
  },
  {
   "cell_type": "code",
   "execution_count": 115,
   "metadata": {},
   "outputs": [
    {
     "name": "stdout",
     "output_type": "stream",
     "text": [
      "333\n"
     ]
    }
   ],
   "source": [
    "df_filtered_5 = df_filtered_3[~df_filtered_3.index.isin(df_filtered_4.index)]\n",
    "count_filtered_rows = len(df_filtered_5)\n",
    "print(count_filtered_rows)"
   ]
  },
  {
   "cell_type": "code",
   "execution_count": 116,
   "metadata": {},
   "outputs": [],
   "source": [
    "df_sampled = df_filtered_4.sample(n=800, random_state=42)\n",
    "df = df.drop(df_sampled.index)\n",
    "df_sampled = df_filtered_5.sample(n=100, random_state=42)\n",
    "df = df.drop(df_sampled.index)"
   ]
  },
  {
   "cell_type": "code",
   "execution_count": 117,
   "metadata": {},
   "outputs": [
    {
     "name": "stdout",
     "output_type": "stream",
     "text": [
      "451 464 120 436 133 306\n",
      "1532\n"
     ]
    }
   ],
   "source": [
    "print(df['Confirmation'].sum(),df['Factoid'].sum(),df['List'].sum(),df['Causal'].sum(),df['Hypothetical'].sum(),df['Complex'].sum())\n",
    "print(len(df))"
   ]
  },
  {
   "cell_type": "code",
   "execution_count": 118,
   "metadata": {},
   "outputs": [
    {
     "name": "stdout",
     "output_type": "stream",
     "text": [
      "349\n",
      "0.22780678851174935\n"
     ]
    }
   ],
   "source": [
    "row_sums = df[['Confirmation', 'Factoid', 'List', 'Causal', 'Hypothetical', 'Complex']].sum(axis=1)\n",
    "count_greater_than_one = (row_sums > 1).sum()\n",
    "print(count_greater_than_one)\n",
    "print(count_greater_than_one/len(df))"
   ]
  },
  {
   "cell_type": "markdown",
   "metadata": {},
   "source": [
    "# this will be the question type check model dataset."
   ]
  },
  {
   "cell_type": "code",
   "execution_count": 119,
   "metadata": {},
   "outputs": [],
   "source": [
    "df.to_csv('result.csv',index=False)"
   ]
  }
 ],
 "metadata": {
  "kernelspec": {
   "display_name": "NLP",
   "language": "python",
   "name": "python3"
  },
  "language_info": {
   "codemirror_mode": {
    "name": "ipython",
    "version": 3
   },
   "file_extension": ".py",
   "mimetype": "text/x-python",
   "name": "python",
   "nbconvert_exporter": "python",
   "pygments_lexer": "ipython3",
   "version": "3.11.7"
  }
 },
 "nbformat": 4,
 "nbformat_minor": 2
}
