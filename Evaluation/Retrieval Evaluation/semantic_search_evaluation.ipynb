{
 "cells": [
  {
   "cell_type": "code",
   "execution_count": null,
   "metadata": {},
   "outputs": [
    {
     "name": "stdout",
     "output_type": "stream",
     "text": [
      "Average Recall (Accuracy): 0.75\n"
     ]
    }
   ],
   "source": [
    "import pandas as pd\n",
    "import random\n",
    "# Assuming FlagEmbedding and Pinecone are custom or external libraries you have access to.\n",
    "from FlagEmbedding import FlagModel\n",
    "from pinecone import Pinecone\n",
    "\n",
    "# Prepare test data\n",
    "df_test = pd.read_csv('./evaluation.csv')\n",
    "test = []\n",
    "\n",
    "for index, row in df_test.iterrows():\n",
    "    small_list = [row[\"Question\"], row[\"PMID\"]]\n",
    "    test.append(small_list)\n",
    "random.seed(42)\n",
    "random.shuffle(test)\n",
    "test = test[:100]  # Select the first 100 rows for testing\n",
    "\n",
    "# Initialize the model\n",
    "model = FlagModel('bge_large_fin', \n",
    "                  query_instruction_for_retrieval=\"Represent this sentence for searching relevant passages:\",\n",
    "                  use_fp16=True)\n",
    "\n",
    "# Initialize Pinecone index\n",
    "pc = Pinecone(api_key=\"621f7574-8c97-4f46-8c5e-186dd099d33b\")\n",
    "index = pc.Index(\"bge-fin\")\n",
    "\n",
    "# Function to get the relevant PMID for each question\n",
    "def get_relevant_pmid(question):\n",
    "    query_vector = model.encode_queries([question])[0].tolist()\n",
    "    response = index.query(\n",
    "        vector=query_vector,\n",
    "        top_k=1,  # Request top 1 result\n",
    "        include_metadata=True  \n",
    "    )\n",
    "\n",
    "    pmid = response['matches'][0]['metadata']['pmid'] if response['matches'] else None\n",
    "    return pmid\n",
    "\n",
    "# Calculate recall rate\n",
    "correct_predictions = 0\n",
    "total_questions = len(test)\n",
    "\n",
    "for question, original_pmid in test:\n",
    "    relevant_pmid = get_relevant_pmid(question)\n",
    "    original_pmid = str(original_pmid)  # Ensure the format is consistent\n",
    "    \n",
    "    # Calculate recall rate\n",
    "    if relevant_pmid == original_pmid:\n",
    "        correct_predictions += 1\n",
    "\n",
    "# Calculate and print the average recall rate (accuracy)\n",
    "avg_recall = correct_predictions / total_questions\n",
    "print(f\"Average Recall (Accuracy): {avg_recall:.2f}\")\n"
   ]
  }
 ],
 "metadata": {
  "language_info": {
   "name": "python"
  }
 },
 "nbformat": 4,
 "nbformat_minor": 2
}
