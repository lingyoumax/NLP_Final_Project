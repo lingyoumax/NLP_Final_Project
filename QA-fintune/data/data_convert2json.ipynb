{
 "cells": [
  {
   "cell_type": "code",
   "execution_count": 2,
   "metadata": {},
   "outputs": [],
   "source": [
    "import pandas as pd\n",
    "import json\n",
    "\n",
    "df_a = pd.read_csv('qap.csv')\n",
    "df_b = pd.read_csv('PubmedDataSet.csv')\n",
    "\n",
    "merged_df = pd.merge(df_a, df_b[['PMID', 'Abstract']], on='PMID', how='left')\n",
    "\n",
    "final_df = merged_df[['Question', 'Answer', 'Abstract']]\n",
    "final_df.columns = ['instruction', 'output', 'input']\n",
    "final_df=final_df.dropna()\n",
    "data_list = final_df.to_dict('records')\n",
    "with open('finetune_dataset.json', 'w', encoding='utf-8') as f:\n",
    "    json.dump(data_list, f, ensure_ascii=False, indent=4)\n"
   ]
  },
  {
   "cell_type": "code",
   "execution_count": 4,
   "metadata": {},
   "outputs": [
    {
     "name": "stderr",
     "output_type": "stream",
     "text": [
      "formatting..: 100%|██████████| 12254/12254 [00:00<00:00, 63646.23it/s]\n"
     ]
    }
   ],
   "source": [
    "import argparse\n",
    "import json\n",
    "from tqdm import tqdm\n",
    "\n",
    "\n",
    "def format_example(example: dict) -> dict:\n",
    "    context = f\"Question: {example['instruction'].strip()}\\n\\n\"\n",
    "    if example.get(\"input\"):\n",
    "        context += f\"Input: {example['input']}\\n\"\n",
    "    context += \"Answer: \"\n",
    "    target = example[\"output\"]\n",
    "    return {\"context\": context, \"target\": target}\n",
    "\n",
    "with open(\"finetune_dataset.json\",encoding='UTF-8') as f:\n",
    "    examples = json.load(f)\n",
    "\n",
    "with open(\"finetune_dataset.jsonl\", 'w') as f:\n",
    "    for example in tqdm(examples, desc=\"formatting..\"):\n",
    "        #f.write(json.dumps(format_example(example),indent=4, ensure_ascii=False) + '\\n')\n",
    "        f.write(json.dumps(format_example(example)) + '\\n')"
   ]
  }
 ],
 "metadata": {
  "kernelspec": {
   "display_name": "NLP",
   "language": "python",
   "name": "python3"
  },
  "language_info": {
   "codemirror_mode": {
    "name": "ipython",
    "version": 3
   },
   "file_extension": ".py",
   "mimetype": "text/x-python",
   "name": "python",
   "nbconvert_exporter": "python",
   "pygments_lexer": "ipython3",
   "version": "3.11.7"
  }
 },
 "nbformat": 4,
 "nbformat_minor": 2
}
