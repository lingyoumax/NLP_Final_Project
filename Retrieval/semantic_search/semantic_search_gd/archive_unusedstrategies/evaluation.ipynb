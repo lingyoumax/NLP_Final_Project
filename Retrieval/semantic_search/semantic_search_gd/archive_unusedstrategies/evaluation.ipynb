{
 "cells": [
  {
   "cell_type": "code",
   "execution_count": 1,
   "metadata": {},
   "outputs": [
    {
     "name": "stderr",
     "output_type": "stream",
     "text": [
      "/usr/local/lib/python3.8/dist-packages/tqdm/auto.py:21: TqdmWarning: IProgress not found. Please update jupyter and ipywidgets. See https://ipywidgets.readthedocs.io/en/stable/user_install.html\n",
      "  from .autonotebook import tqdm as notebook_tqdm\n",
      "100%|████████████████████████████████████████████████████████████████████████████████████████████████████████████████████| 1000/1000 [02:28<00:00,  6.73it/s]"
     ]
    },
    {
     "name": "stdout",
     "output_type": "stream",
     "text": [
      "Mean Reciprocal Rank (MRR): 0.7259333333333335\n"
     ]
    },
    {
     "name": "stderr",
     "output_type": "stream",
     "text": [
      "\n"
     ]
    }
   ],
   "source": [
    "import pandas as pd\n",
    "from tqdm import tqdm\n",
    "from FlagEmbedding import FlagModel\n",
    "from opensearchpy import OpenSearch\n",
    "\n",
    "df_evaluation = pd.read_csv('evaluation.csv')\n",
    "data_list = df_evaluation.values.tolist()\n",
    "\n",
    "mrr_sum = 0\n",
    "\n",
    "index_name = 'abstracts_bge'\n",
    "\n",
    "model = FlagModel('BAAI/bge-large-en-v1.5', \n",
    "                  query_instruction_for_retrieval=\"Represent this sentence for searching relevant passages:\",\n",
    "                  use_fp16=False)\n",
    "\n",
    "client = OpenSearch(\n",
    "    hosts=[{\"host\": 'opensearch', \"port\": 9200}],\n",
    "    http_auth=('admin', 'admin'),\n",
    "    use_ssl=True,\n",
    "    verify_certs=False,\n",
    "    ssl_assert_hostname=False,\n",
    "    ssl_show_warn=False,\n",
    ")\n",
    "\n",
    "for query, _, correct_pmid in tqdm(data_list):\n",
    "    embedding = model.encode_queries(query).tolist()\n",
    "    body = {\n",
    "        \"size\": 5,\n",
    "        \"query\": {\n",
    "            \"script_score\": {\n",
    "                \"query\": {\n",
    "                    \"match_all\": {}\n",
    "                },\n",
    "                \"script\": {\n",
    "                    \"source\": \"knn_score\",\n",
    "                    \"lang\": \"knn\",\n",
    "                    \"params\": {\n",
    "                        \"field\": \"vector\",\n",
    "                        \"query_value\": embedding,\n",
    "                        \"space_type\": \"cosinesimil\"\n",
    "                    }   \n",
    "                }\n",
    "            }\n",
    "        }\n",
    "    }\n",
    "    res = client.search(index=index_name, body=body)\n",
    "    search_results_pmids = [hit['_source']['pmid'] for hit in res['hits']['hits']]\n",
    "    if correct_pmid in search_results_pmids:\n",
    "        rank = search_results_pmids.index(correct_pmid) + 1\n",
    "        mrr_sum += 1 / rank\n",
    "\n",
    "mrr = mrr_sum / len(data_list)\n",
    "print(f\"Mean Reciprocal Rank (MRR): {mrr}\")"
   ]
  },
  {
   "cell_type": "code",
   "execution_count": 6,
   "metadata": {},
   "outputs": [
    {
     "name": "stderr",
     "output_type": "stream",
     "text": [
      "Special tokens have been added in the vocabulary, make sure the associated word embeddings are fine-tuned or trained.\n",
      "100%|████████████████████████████████████████████████████████████████████████████████████████████████████████████████████| 1000/1000 [08:15<00:00,  2.02it/s]"
     ]
    },
    {
     "name": "stdout",
     "output_type": "stream",
     "text": [
      "Mean Reciprocal Rank (MRR): 0.7960666666666668\n"
     ]
    },
    {
     "name": "stderr",
     "output_type": "stream",
     "text": [
      "\n"
     ]
    }
   ],
   "source": [
    "import pandas as pd\n",
    "from tqdm import tqdm\n",
    "from FlagEmbedding import FlagModel\n",
    "from opensearchpy import OpenSearch\n",
    "\n",
    "df_evaluation = pd.read_csv('evaluation.csv')\n",
    "data_list = df_evaluation.values.tolist()\n",
    "\n",
    "mrr_sum = 0\n",
    "\n",
    "index_name = 'abstracts_bge_fin1'\n",
    "\n",
    "model = FlagModel('bge_large_fin', \n",
    "                  query_instruction_for_retrieval=\"Represent this sentence for searching relevant passages:\",\n",
    "                  use_fp16=False)\n",
    "\n",
    "client = OpenSearch(\n",
    "    hosts=[{\"host\": 'opensearch', \"port\": 9200}],\n",
    "    http_auth=('admin', 'admin'),\n",
    "    use_ssl=True,\n",
    "    verify_certs=False,\n",
    "    ssl_assert_hostname=False,\n",
    "    ssl_show_warn=False,\n",
    ")\n",
    "\n",
    "for query, _, correct_pmid in tqdm(data_list):\n",
    "    embedding = model.encode_queries(query).tolist()\n",
    "    body = {\n",
    "        \"size\": 5,\n",
    "        \"query\": {\n",
    "            \"script_score\": {\n",
    "                \"query\": {\n",
    "                    \"match_all\": {}\n",
    "                },\n",
    "                \"script\": {\n",
    "                    \"source\": \"knn_score\",\n",
    "                    \"lang\": \"knn\",\n",
    "                    \"params\": {\n",
    "                        \"field\": \"vector\",\n",
    "                        \"query_value\": embedding,\n",
    "                        \"space_type\": \"cosinesimil\"\n",
    "                    }   \n",
    "                }\n",
    "            }\n",
    "        }\n",
    "    }\n",
    "    res = client.search(index=index_name, body=body)\n",
    "    search_results_pmids = [hit['_source']['pmid'] for hit in res['hits']['hits']]\n",
    "    if correct_pmid in search_results_pmids:\n",
    "        rank = search_results_pmids.index(correct_pmid) + 1\n",
    "        mrr_sum += 1 / rank\n",
    "\n",
    "mrr = mrr_sum / len(data_list)\n",
    "print(f\"Mean Reciprocal Rank (MRR): {mrr}\")"
   ]
  }
 ],
 "metadata": {
  "kernelspec": {
   "display_name": "Python 3 (ipykernel)",
   "language": "python",
   "name": "python3"
  },
  "language_info": {
   "codemirror_mode": {
    "name": "ipython",
    "version": 3
   },
   "file_extension": ".py",
   "mimetype": "text/x-python",
   "name": "python",
   "nbconvert_exporter": "python",
   "pygments_lexer": "ipython3",
   "version": "3.8.10"
  }
 },
 "nbformat": 4,
 "nbformat_minor": 2
}
