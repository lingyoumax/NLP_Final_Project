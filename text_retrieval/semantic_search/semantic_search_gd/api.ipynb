{
 "cells": [
  {
   "cell_type": "code",
   "execution_count": null,
   "metadata": {},
   "outputs": [
    {
     "name": "stdout",
     "output_type": "stream",
     "text": [
      "['In April 2019, the US Food and Drug Administration, in conjunction with 11 professional ophthalmic, vision science, and optometric societies, convened a forum on laser-based imaging.\\n\\nThe forum brought together the Food and Drug Administration, clinicians, researchers, industry members, and other stakeholders to stimulate innovation and ensure that patients in the US are the first in the world to have access to high-quality, safe, and effective medical devices.', '\"Actions\" are treated very generally, from mass protests to votes and other collective decisions, such as, e.g., acceptance (often unconscious) of some societal recommendations.\\n\\nIn this paper, we concentrate on the theory of laser resonators, physical vs. social.\\n\\nFor the latter, we analyze in detail the functioning of Internet-based echo chambers.\\n\\nTheir main purpose is increasing of the power of the quantum information field as well as its coherence.', 'Background & Aims: The United States Food and Drug Administration (FDA) regulates a broad range of consumer products, which account for about 25% of the United States market.\\n\\nThe FDA regulatory activities often involve producing and reading of a large number of documents, which is time consuming and labor intensive.']\n"
     ]
    }
   ],
   "source": [
    "from pinecone import Pinecone\n",
    "from FlagEmbedding import FlagModel\n",
    "\n",
    "model = FlagModel('bge_large_fin', \n",
    "                  query_instruction_for_retrieval=\"Represent this sentence for searching relevant passages:\",\n",
    "                  use_fp16=True)\n",
    "\n",
    "pc = Pinecone(api_key=\"621f7574-8c97-4f46-8c5e-186dd099d33b\")\n",
    "index = pc.Index(\"bge-fin\")\n",
    "\n",
    "def search_arxiv_texts(query):\n",
    "    \n",
    "    query_vector = model.encode_queries([query])[0].tolist()\n",
    "    \n",
    "    response = index.query(\n",
    "        vector=query_vector,\n",
    "        top_k=3,\n",
    "        include_metadata=True  \n",
    "    )\n",
    "\n",
    "    \n",
    "    arxiv_texts = [match['metadata']['arxiv_text'] for match in response['matches']]\n",
    "\n",
    "    return arxiv_texts\n",
    "\n",
    "\n",
    "query = \"What was the purpose of the US Food and Drug Administration-cosponsored forum on laser-based imaging?\"\n",
    "top_arxiv_texts = search_arxiv_texts(query)\n",
    "print(top_arxiv_texts)\n"
   ]
  },
  {
   "cell_type": "code",
   "execution_count": 5,
   "metadata": {},
   "outputs": [
    {
     "name": "stdout",
     "output_type": "stream",
     "text": [
      "['33211074', '33286331', '34939028']\n"
     ]
    }
   ],
   "source": [
    "from pinecone import Pinecone\n",
    "from FlagEmbedding import FlagModel\n",
    "\n",
    "model = FlagModel('bge_large_fin', \n",
    "                  query_instruction_for_retrieval=\"Represent this sentence for searching relevant passages:\",\n",
    "                  use_fp16=True)\n",
    "\n",
    "pc = Pinecone(api_key=\"621f7574-8c97-4f46-8c5e-186dd099d33b\")\n",
    "index = pc.Index(\"bge-fin\")\n",
    "\n",
    "def search_arxiv_texts(query):\n",
    "    \n",
    "    query_vector = model.encode_queries([query])[0].tolist()\n",
    "    \n",
    "    response = index.query(\n",
    "        vector=query_vector,\n",
    "        top_k=3,\n",
    "        include_metadata=True  \n",
    "    )\n",
    "\n",
    "    print([match['metadata']['pmid'] for match in response['matches']])\n",
    "    \n",
    "    arxiv_texts = [match['metadata']['arxiv_text'] for match in response['matches']]\n",
    "\n",
    "    return arxiv_texts\n",
    "\n",
    "\n",
    "query = \"What was the purpose of the US Food and Drug Administration-cosponsored forum on laser-based imaging?\"\n",
    "top_arxiv_texts = search_arxiv_texts(query)\n"
   ]
  }
 ],
 "metadata": {
  "kernelspec": {
   "display_name": "Python 3 (ipykernel)",
   "language": "python",
   "name": "python3"
  }
 },
 "nbformat": 4,
 "nbformat_minor": 2
}
