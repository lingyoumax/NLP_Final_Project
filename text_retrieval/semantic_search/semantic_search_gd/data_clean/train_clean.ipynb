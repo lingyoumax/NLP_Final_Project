{
 "cells": [
  {
   "cell_type": "code",
   "execution_count": 8,
   "metadata": {},
   "outputs": [
    {
     "name": "stdout",
     "output_type": "stream",
     "text": [
      "734\n"
     ]
    }
   ],
   "source": [
    "import pandas as pd\n",
    "\n",
    "df = pd.read_csv('qaa.csv')\n",
    "df_cleaned = df.dropna()\n",
    "print(df_cleaned['Question'].str.contains('in the study', case=False, na=False).sum())\n",
    "df_cleaned = df_cleaned[~df_cleaned['Question'].str.contains('in the study', case=False, na=False)]\n",
    "df_cleaned.to_csv('train_2.csv', index=False)"
   ]
  },
  {
   "cell_type": "code",
   "execution_count": 9,
   "metadata": {},
   "outputs": [
    {
     "name": "stdout",
     "output_type": "stream",
     "text": [
      "1\n"
     ]
    }
   ],
   "source": [
    "import pandas as pd\n",
    "\n",
    "df = pd.read_csv('train_2.csv')\n",
    "print(df['Question'].str.contains('retracted', case=False, na=False).sum())\n",
    "df = df[~df['Question'].str.contains('retracted', case=False, na=False)]\n",
    "df.to_csv('train_3.csv', index=False)"
   ]
  },
  {
   "cell_type": "code",
   "execution_count": 10,
   "metadata": {},
   "outputs": [
    {
     "name": "stdout",
     "output_type": "stream",
     "text": [
      "180\n"
     ]
    }
   ],
   "source": [
    "import pandas as pd\n",
    "\n",
    "df = pd.read_csv('train_3.csv')\n",
    "print(df['Question'].str.contains('in this study', case=False, na=False).sum())\n",
    "df = df[~df['Question'].str.contains('in this study', case=False, na=False)]\n",
    "df.to_csv('train_4.csv', index=False)"
   ]
  },
  {
   "cell_type": "code",
   "execution_count": 11,
   "metadata": {},
   "outputs": [
    {
     "name": "stdout",
     "output_type": "stream",
     "text": [
      "1138\n"
     ]
    }
   ],
   "source": [
    "import pandas as pd\n",
    "\n",
    "df = pd.read_csv('train_4.csv')\n",
    "print(df['Question'].str.contains('the study', case=False, na=False).sum())\n",
    "df = df[~df['Question'].str.contains('the study', case=False, na=False)]\n",
    "df.to_csv('train_5.csv', index=False)"
   ]
  },
  {
   "cell_type": "code",
   "execution_count": 12,
   "metadata": {},
   "outputs": [
    {
     "name": "stdout",
     "output_type": "stream",
     "text": [
      "100\n"
     ]
    }
   ],
   "source": [
    "import pandas as pd\n",
    "\n",
    "df = pd.read_csv('train_5.csv')\n",
    "print(df['Question'].str.contains('this study', case=False, na=False).sum())\n",
    "df = df[~df['Question'].str.contains('this study', case=False, na=False)]\n",
    "df.to_csv('train_6.csv', index=False)"
   ]
  },
  {
   "cell_type": "code",
   "execution_count": 13,
   "metadata": {},
   "outputs": [
    {
     "name": "stdout",
     "output_type": "stream",
     "text": [
      "3\n"
     ]
    }
   ],
   "source": [
    "import pandas as pd\n",
    "\n",
    "df = pd.read_csv('train_6.csv')\n",
    "print(df['Question'].str.contains('in the current study', case=False, na=False).sum())\n",
    "df = df[~df['Question'].str.contains('in the current study', case=False, na=False)]\n",
    "df.to_csv('train_7.csv', index=False)"
   ]
  },
  {
   "cell_type": "code",
   "execution_count": 14,
   "metadata": {},
   "outputs": [
    {
     "name": "stdout",
     "output_type": "stream",
     "text": [
      "107\n"
     ]
    }
   ],
   "source": [
    "import pandas as pd\n",
    "\n",
    "df = pd.read_csv('train_7.csv')\n",
    "print(df['Question'].str.contains('in this paper', case=False, na=False).sum())\n",
    "df = df[~df['Question'].str.contains('in this paper', case=False, na=False)]\n",
    "df.to_csv('train_8.csv', index=False)"
   ]
  },
  {
   "cell_type": "code",
   "execution_count": 15,
   "metadata": {},
   "outputs": [
    {
     "name": "stdout",
     "output_type": "stream",
     "text": [
      "5\n"
     ]
    }
   ],
   "source": [
    "import pandas as pd\n",
    "\n",
    "df = pd.read_csv('train_8.csv')\n",
    "print(df['Question'].str.contains('in their study', case=False, na=False).sum())\n",
    "df = df[~df['Question'].str.contains('in their study', case=False, na=False)]\n",
    "df.to_csv('train_9.csv', index=False)"
   ]
  },
  {
   "cell_type": "code",
   "execution_count": 16,
   "metadata": {},
   "outputs": [
    {
     "name": "stdout",
     "output_type": "stream",
     "text": [
      "1\n"
     ]
    }
   ],
   "source": [
    "import pandas as pd\n",
    "\n",
    "df = pd.read_csv('train_9.csv')\n",
    "print(df['Question'].str.contains('in their pilot study', case=False, na=False).sum())\n",
    "df = df[~df['Question'].str.contains('in their pilot study', case=False, na=False)]\n",
    "df.to_csv('train_10.csv', index=False)"
   ]
  },
  {
   "cell_type": "code",
   "execution_count": 17,
   "metadata": {},
   "outputs": [
    {
     "name": "stdout",
     "output_type": "stream",
     "text": [
      "108\n"
     ]
    }
   ],
   "source": [
    "import pandas as pd\n",
    "\n",
    "df = pd.read_csv('train_10.csv')\n",
    "print(df['Question'].str.contains('authors', case=False, na=False).sum())\n",
    "df = df[~df['Question'].str.contains('authors', case=False, na=False)]\n",
    "df.to_csv('train_11.csv', index=False)"
   ]
  },
  {
   "cell_type": "code",
   "execution_count": 18,
   "metadata": {},
   "outputs": [
    {
     "name": "stdout",
     "output_type": "stream",
     "text": [
      "11\n"
     ]
    }
   ],
   "source": [
    "import pandas as pd\n",
    "\n",
    "df = pd.read_csv('train_11.csv')\n",
    "print(df['Question'].str.contains('present study', case=False, na=False).sum())\n",
    "df = df[~df['Question'].str.contains('present study', case=False, na=False)]\n",
    "df.to_csv('train_12.csv', index=False)"
   ]
  },
  {
   "cell_type": "code",
   "execution_count": 19,
   "metadata": {},
   "outputs": [
    {
     "name": "stdout",
     "output_type": "stream",
     "text": [
      "19\n"
     ]
    }
   ],
   "source": [
    "import pandas as pd\n",
    "\n",
    "df = pd.read_csv('train_12.csv')\n",
    "print(df['Question'].str.contains('Is this', case=False, na=False).sum())\n",
    "df = df[~df['Question'].str.contains('Is this', case=False, na=False)]\n",
    "df.to_csv('train_13.csv', index=False)"
   ]
  },
  {
   "cell_type": "code",
   "execution_count": 20,
   "metadata": {},
   "outputs": [
    {
     "name": "stdout",
     "output_type": "stream",
     "text": [
      "291\n"
     ]
    }
   ],
   "source": [
    "import pandas as pd\n",
    "\n",
    "df = pd.read_csv('train_13.csv')\n",
    "print(df['Question'].str.contains('in the paper', case=False, na=False).sum())\n",
    "df = df[~df['Question'].str.contains('in the paper', case=False, na=False)]\n",
    "df.to_csv('train_14.csv', index=False)"
   ]
  },
  {
   "cell_type": "code",
   "execution_count": 21,
   "metadata": {},
   "outputs": [
    {
     "name": "stdout",
     "output_type": "stream",
     "text": [
      "1\n"
     ]
    }
   ],
   "source": [
    "import pandas as pd\n",
    "\n",
    "df = pd.read_csv('train_14.csv')\n",
    "print(df['Question'].str.contains('their study', case=False, na=False).sum())\n",
    "df = df[~df['Question'].str.contains('their study', case=False, na=False)]\n",
    "df.to_csv('train_15.csv', index=False)"
   ]
  },
  {
   "cell_type": "code",
   "execution_count": 22,
   "metadata": {},
   "outputs": [
    {
     "name": "stdout",
     "output_type": "stream",
     "text": [
      "30\n"
     ]
    }
   ],
   "source": [
    "\n",
    "import pandas as pd\n",
    "\n",
    "df = pd.read_csv('train_15.csv')\n",
    "print(df['Question'].str.contains('author', case=False, na=False).sum())\n",
    "df = df[~df['Question'].str.contains('author', case=False, na=False)]\n",
    "df.to_csv('train_16.csv', index=False)"
   ]
  },
  {
   "cell_type": "code",
   "execution_count": 23,
   "metadata": {},
   "outputs": [
    {
     "name": "stdout",
     "output_type": "stream",
     "text": [
      "12\n"
     ]
    }
   ],
   "source": [
    "import pandas as pd\n",
    "\n",
    "df = pd.read_csv('train_16.csv')\n",
    "print(df['Question'].str.contains('case study', case=False, na=False).sum())\n",
    "df = df[~df['Question'].str.contains('case study', case=False, na=False)]\n",
    "df.to_csv('train_17.csv', index=False)"
   ]
  },
  {
   "cell_type": "code",
   "execution_count": 24,
   "metadata": {},
   "outputs": [
    {
     "name": "stdout",
     "output_type": "stream",
     "text": [
      "18\n"
     ]
    }
   ],
   "source": [
    "import pandas as pd\n",
    "\n",
    "df = pd.read_csv('train_16.csv')\n",
    "print(df['Question'].str.contains('Study I', case=False, na=False).sum())\n",
    "df = df[~df['Question'].str.contains('Study I', case=False, na=False)]\n",
    "df.to_csv('train_17.csv', index=False)"
   ]
  },
  {
   "cell_type": "code",
   "execution_count": 25,
   "metadata": {},
   "outputs": [
    {
     "name": "stdout",
     "output_type": "stream",
     "text": [
      "6\n"
     ]
    }
   ],
   "source": [
    "import pandas as pd\n",
    "\n",
    "df = pd.read_csv('train_17.csv')\n",
    "print(df['Question'].str.contains('current study', case=False, na=False).sum())\n",
    "df = df[~df['Question'].str.contains('current study', case=False, na=False)]\n",
    "df.to_csv('train_18.csv', index=False)"
   ]
  },
  {
   "cell_type": "code",
   "execution_count": 26,
   "metadata": {},
   "outputs": [
    {
     "name": "stdout",
     "output_type": "stream",
     "text": [
      "1\n"
     ]
    }
   ],
   "source": [
    "import pandas as pd\n",
    "\n",
    "df = pd.read_csv('train_18.csv')\n",
    "print(df['Question'].str.contains('in this comparative study', case=False, na=False).sum())\n",
    "df = df[~df['Question'].str.contains('in this comparative study', case=False, na=False)]\n",
    "df.to_csv('train_19.csv', index=False)"
   ]
  },
  {
   "cell_type": "code",
   "execution_count": 27,
   "metadata": {},
   "outputs": [
    {
     "name": "stdout",
     "output_type": "stream",
     "text": [
      "48\n"
     ]
    }
   ],
   "source": [
    "import pandas as pd\n",
    "\n",
    "df = pd.read_csv('train_19.csv')\n",
    "print(df['Question'].str.contains('in the article', case=False, na=False).sum())\n",
    "df = df[~df['Question'].str.contains('in the article', case=False, na=False)]\n",
    "df.to_csv('train_20.csv', index=False)"
   ]
  },
  {
   "cell_type": "code",
   "execution_count": 28,
   "metadata": {},
   "outputs": [
    {
     "name": "stdout",
     "output_type": "stream",
     "text": [
      "9\n"
     ]
    }
   ],
   "source": [
    "import pandas as pd\n",
    "\n",
    "df = pd.read_csv('train_20.csv')\n",
    "print(df['Question'].str.contains('pilot study', case=False, na=False).sum())\n",
    "df = df[~df['Question'].str.contains('pilot study', case=False, na=False)]\n",
    "df.to_csv('train_21.csv', index=False)"
   ]
  },
  {
   "cell_type": "code",
   "execution_count": 29,
   "metadata": {},
   "outputs": [
    {
     "name": "stdout",
     "output_type": "stream",
     "text": [
      "3\n"
     ]
    }
   ],
   "source": [
    "import pandas as pd\n",
    "\n",
    "df = pd.read_csv('train_21.csv')\n",
    "print(df['chunk_text'].str.contains('This corrects', case=False, na=False).sum())\n",
    "df = df[~df['chunk_text'].str.contains('This corrects', case=False, na=False)]\n",
    "df.to_csv('train_22.csv', index=False)"
   ]
  }
 ],
 "metadata": {
  "kernelspec": {
   "display_name": "base",
   "language": "python",
   "name": "python3"
  },
  "language_info": {
   "codemirror_mode": {
    "name": "ipython",
    "version": 3
   },
   "file_extension": ".py",
   "mimetype": "text/x-python",
   "name": "python",
   "nbconvert_exporter": "python",
   "pygments_lexer": "ipython3",
   "version": "3.11.5"
  }
 },
 "nbformat": 4,
 "nbformat_minor": 2
}
